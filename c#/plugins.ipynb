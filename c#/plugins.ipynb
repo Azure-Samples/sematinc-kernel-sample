{
 "cells": [
  {
   "cell_type": "markdown",
   "metadata": {},
   "source": [
    "# Plugins\n",
    "\n",
    "Plugins enhance the capabilities of language models (LLM) through modular execution, allowing you to:\n",
    "\n",
    "1. Execute Deterministic Logic:\n",
    "Each plugin contains specific and well-defined logic to perform concrete tasks.\n",
    "\n",
    "2. Extend Functionality:\n",
    "You can expand the capabilities of language models by integrating them with different tools and services.\n",
    "\n",
    "3. Tailored Customization:\n",
    "Plugins facilitate adapting functionality according to the needs of each user or application, offering flexibility and control when designing solutions.\n",
    "\n",
    "Plugins allow you to enrich the LLM with additional functionalities in an orderly and modular manner, making the integration and extension of services simple and effective."
   ]
  },
  {
   "cell_type": "code",
   "execution_count": 24,
   "metadata": {
    "dotnet_interactive": {
     "language": "csharp"
    },
    "polyglot_notebook": {
     "kernelName": "csharp"
    },
    "vscode": {
     "languageId": "polyglot-notebook"
    }
   },
   "outputs": [
    {
     "data": {
      "text/html": [
       "<div><div></div><div></div><div><strong>Installed Packages</strong><ul><li><span>Microsoft.SemanticKernel, 1.39.0</span></li><li><span>microsoft.semantickernel.connectors.openai, 1.39.0</span></li><li><span>microsoft.semantickernel.core, 1.39.0</span></li></ul></div></div>"
      ]
     },
     "metadata": {},
     "output_type": "display_data"
    }
   ],
   "source": [
    "#r \"nuget: Microsoft.SemanticKernel, 1.39.0\"\n",
    "#r \"nuget: Microsoft.SemanticKernel.Core, 1.39.0\"\n",
    "#r \"nuget: Microsoft.SemanticKernel.Connectors.OpenAI, 1.39.0\""
   ]
  },
  {
   "cell_type": "code",
   "execution_count": 25,
   "metadata": {
    "dotnet_interactive": {
     "language": "csharp"
    },
    "polyglot_notebook": {
     "kernelName": "csharp"
    },
    "vscode": {
     "languageId": "polyglot-notebook"
    }
   },
   "outputs": [
    {
     "ename": "Error",
     "evalue": "(19,61): error CS0234: The type or namespace name 'AzureAI' does not exist in the namespace 'Microsoft.SemanticKernel.Agents' (are you missing an assembly reference?)",
     "output_type": "error",
     "traceback": [
      "(19,61): error CS0234: The type or namespace name 'AzureAI' does not exist in the namespace 'Microsoft.SemanticKernel.Agents' (are you missing an assembly reference?)"
     ]
    }
   ],
   "source": [
    "using System;\n",
    "using System.ComponentModel;\n",
    "using System.IO;\n",
    "using System.Threading;\n",
    "using System.Threading.Tasks;\n",
    "using Microsoft.Extensions.Logging;\n",
    "using Microsoft.Extensions.Logging.Abstractions;\n",
    "\n",
    "using Microsoft.SemanticKernel;\n",
    "using Microsoft.SemanticKernel.ChatCompletion;\n",
    "using Microsoft.SemanticKernel.Connectors.OpenAI;\n",
    "using Microsoft.SemanticKernel.Data;\n",
    "using Microsoft.SemanticKernel.Agents;\n",
    "\n",
    "using Kernel = Microsoft.SemanticKernel.Kernel;\n",
    "using KernelPlugin = Microsoft.SemanticKernel.KernelPlugin;\n",
    "using KernelExtensions = Microsoft.SemanticKernel.KernelExtensions;\n",
    "using KernelPluginExtensions = Microsoft.SemanticKernel.KernelPluginExtensions;\n",
    "using ChatCompletionAgent = Microsoft.SemanticKernel.Agents.AzureAI.ChatCompletionAgent;"
   ]
  },
  {
   "cell_type": "code",
   "execution_count": 26,
   "metadata": {
    "dotnet_interactive": {
     "language": "csharp"
    },
    "polyglot_notebook": {
     "kernelName": "csharp"
    },
    "vscode": {
     "languageId": "polyglot-notebook"
    }
   },
   "outputs": [],
   "source": [
    "using System.IO;\n",
    "using System.Text.Json;\n",
    "\n",
    "public class Settings\n",
    "{\n",
    "    public string Model { get; set; }\n",
    "    public string AzureEndpoint { get; set; }\n",
    "    public string ApiKey { get; set; }\n",
    "\n",
    "    public static (string, string, string) LoadFromFile()\n",
    "    {\n",
    "        var jsonString = File.ReadAllText(\"config/settings.json\");\n",
    "        var options = new JsonSerializerOptions { PropertyNameCaseInsensitive = true };\n",
    "        var settings = JsonSerializer.Deserialize<Settings>(jsonString, options);\n",
    "        if (settings == null)\n",
    "        {\n",
    "            throw new Exception(\"Failed to load settings from the configuration file.\");\n",
    "        }\n",
    "        return (settings.Model, settings.AzureEndpoint, settings.ApiKey);\n",
    "    }\n",
    "}"
   ]
  },
  {
   "cell_type": "code",
   "execution_count": 27,
   "metadata": {
    "dotnet_interactive": {
     "language": "csharp"
    },
    "polyglot_notebook": {
     "kernelName": "csharp"
    },
    "vscode": {
     "languageId": "polyglot-notebook"
    }
   },
   "outputs": [],
   "source": [
    "public class GreetingSkill\n",
    "{\n",
    "    [KernelFunction, Description(\"Greet the user based on its name\")]\n",
    "    public string Greetings(string name)\n",
    "    {\n",
    "        return $\"Hello, {name}! It's nice to meet you!\";\n",
    "    }\n",
    "\n",
    "    [KernelFunction, Description(\"Greet the user politely based on its name\")]\n",
    "    public string PoliteGreetings(string name)\n",
    "    {\n",
    "        return $\"Hello, dear {name}! It's very pleasant to speak with you!\";\n",
    "    }\n",
    "\n",
    "    [KernelFunction, Description(\"Greet the user using slang\")]\n",
    "    public string SlangGreetings(string name)\n",
    "    {\n",
    "        return $\"Yo {name}! Who'd ya doing, daug?\";\n",
    "    }\n",
    "}"
   ]
  },
  {
   "cell_type": "code",
   "execution_count": null,
   "metadata": {
    "dotnet_interactive": {
     "language": "csharp"
    },
    "polyglot_notebook": {
     "kernelName": "csharp"
    },
    "vscode": {
     "languageId": "polyglot-notebook"
    }
   },
   "outputs": [],
   "source": [
    "public class MathSkill\n",
    "{\n",
    "    [KernelFunction, Description(\"Sum Two Numbers\")]\n",
    "    public float Sum(float numberOne, float numberTwo)\n",
    "    {\n",
    "        return numberOne + numberTwo;\n",
    "    }\n",
    "\n",
    "    [KernelFunction, Description(\"Multiply Two Numbers\")]\n",
    "    public float Multiply(float numberOne, float numberTwo)\n",
    "    {\n",
    "        return numberOne * numberTwo;\n",
    "    }\n",
    "\n",
    "    [KernelFunction, Description(\"Calculates the Exponential of numberOne to the Power of numberTwo\")]\n",
    "    public float Exponential(float numberOne, float numberTwo)\n",
    "    {\n",
    "        return (float)Math.Pow(numberOne, numberTwo);\n",
    "    }\n",
    "}"
   ]
  },
  {
   "cell_type": "code",
   "execution_count": 29,
   "metadata": {
    "dotnet_interactive": {
     "language": "csharp"
    },
    "polyglot_notebook": {
     "kernelName": "csharp"
    },
    "vscode": {
     "languageId": "polyglot-notebook"
    }
   },
   "outputs": [],
   "source": [
    "public class ChatSkill\n",
    "{\n",
    "    [KernelFunction, Description(\"Chat with the user\")]\n",
    "    public string Chat(string input)\n",
    "    {\n",
    "        return $\"You said: {input}\";\n",
    "    }\n",
    "}"
   ]
  },
  {
   "cell_type": "code",
   "execution_count": null,
   "metadata": {
    "dotnet_interactive": {
     "language": "csharp"
    },
    "polyglot_notebook": {
     "kernelName": "csharp"
    },
    "vscode": {
     "languageId": "polyglot-notebook"
    }
   },
   "outputs": [
    {
     "name": "stdout",
     "output_type": "stream",
     "text": [
      "Result: Hi there! I'm here and ready to assist you. How can I help you today?\n",
      "\n",
      "Chat history: [{\"Role\":{\"Label\":\"assistant\"},\"Items\":[{\"$type\":\"TextContent\",\"Text\":\"Hi there! I\\u0027m here and ready to assist you. How can I help you today?\"}]}]\n",
      "\n"
     ]
    }
   ],
   "source": [
    "var (model, azureEndpoint, apiKey) = Settings.LoadFromFile();\n",
    "IKernelBuilder builder = Kernel.CreateBuilder();\n",
    "builder.AddAzureOpenAIChatCompletion(model, azureEndpoint, apiKey);\n",
    "\n",
    "builder.Plugins.AddFromType<GreetingSkill>(\"GreetingSkill\");\n",
    "builder.Plugins.AddFromType<MathSkill>(\"MathSkill\");\n",
    "builder.Plugins.AddFromType<ChatSkill>(\"ChatSkill\");\n",
    "\n",
    "OpenAIPromptExecutionSettings openAIPromptExecutionSettings = new()\n",
    "{\n",
    "    MaxTokens = 2000,\n",
    "    Temperature = 0.7,\n",
    "    TopP = 0.5\n",
    "};\n",
    "\n",
    "Kernel kernel = builder.Build();\n",
    "OpenAIPromptExecutionSettings executionSettings = openAIPromptExecutionSettings;\n",
    "executionSettings.FunctionChoiceBehavior = FunctionChoiceBehavior.Auto();\n",
    "\n",
    "var chatCompletion = kernel.GetRequiredService<IChatCompletionService>();\n",
    "var chatHistory = new ChatHistory();\n",
    "\n",
    "var chatCompletionResult = await chatCompletion.GetChatMessageContentAsync(\"How much is 512^12\", executionSettings, kernel);\n",
    "\n",
    "Console.WriteLine($\"Result: {chatCompletionResult}\\n\");\n",
    "chatHistory.AddAssistantMessage(chatCompletionResult.ToString());\n",
    "Console.WriteLine($\"Chat history: {JsonSerializer.Serialize(chatHistory)}\\n\");"
   ]
  }
 ],
 "metadata": {
  "kernelspec": {
   "display_name": ".NET (C#)",
   "language": "C#",
   "name": ".net-csharp"
  },
  "language_info": {
   "codemirror_mode": {
    "name": "ipython",
    "version": 3
   },
   "file_extension": ".py",
   "mimetype": "text/x-python",
   "name": "python",
   "nbconvert_exporter": "python",
   "pygments_lexer": "ipython3",
   "version": "3.12.9"
  },
  "polyglot_notebook": {
   "kernelInfo": {
    "defaultKernelName": "csharp",
    "items": [
     {
      "aliases": [],
      "name": "csharp"
     }
    ]
   }
  }
 },
 "nbformat": 4,
 "nbformat_minor": 2
}
