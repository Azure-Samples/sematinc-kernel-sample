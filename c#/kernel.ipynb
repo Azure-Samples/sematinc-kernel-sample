{
 "cells": [
  {
   "cell_type": "markdown",
   "metadata": {},
   "source": [
    "# The Kernel\n",
    "\n",
    "On this demonstration, we are going to show how \"The Kernel\" from semantic kernel works.\n",
    "\n",
    "We are covering:\n",
    "\n",
    "1. Adding Semantic Kernel Latest version to the project\n",
    "2. Loading the required libraries\n",
    "3. Defining a settings scope\n",
    "4. Defining a Greeting Skill\n",
    "5. Shocasing the difference between the Greeting with a model and a skill\n",
    "6. Using memory and configuring the system message"
   ]
  },
  {
   "cell_type": "markdown",
   "metadata": {},
   "source": [
    "#### 1. Loading the Nuget\n",
    "\n",
    "The latest stable version available (on Feb/2025) is 1.39.0.\n",
    "\n",
    "On this version, the Agent System is not integrated with other libraries such as AI Foundry SDK neither AutoGen, but it is meant to be later this year.\n",
    "Good news is, this version already works on top of function calling, enabling better workflow for deterministic actions."
   ]
  },
  {
   "cell_type": "code",
   "execution_count": 1,
   "metadata": {
    "dotnet_interactive": {
     "language": "csharp"
    },
    "polyglot_notebook": {
     "kernelName": "csharp"
    },
    "vscode": {
     "languageId": "polyglot-notebook"
    }
   },
   "outputs": [
    {
     "data": {
      "text/html": [
       "<div><div></div><div></div><div><strong>Installed Packages</strong><ul><li><span>Microsoft.SemanticKernel, 1.39.0</span></li></ul></div></div>"
      ]
     },
     "metadata": {},
     "output_type": "display_data"
    }
   ],
   "source": [
    "#r \"nuget: Microsoft.SemanticKernel, 1.39.0\""
   ]
  },
  {
   "cell_type": "markdown",
   "metadata": {},
   "source": [
    "#### 2. Loading the required libraries\n",
    "\n",
    "You should load the connectors separatelly. It is also a good practice to declare the Types that are being used on the program"
   ]
  },
  {
   "cell_type": "code",
   "execution_count": 2,
   "metadata": {
    "dotnet_interactive": {
     "language": "csharp"
    },
    "polyglot_notebook": {
     "kernelName": "csharp"
    },
    "vscode": {
     "languageId": "polyglot-notebook"
    }
   },
   "outputs": [],
   "source": [
    "using System;\n",
    "using System.ComponentModel;\n",
    "using System.IO;\n",
    "using System.Threading;\n",
    "using System.Threading.Tasks;\n",
    "using Microsoft.Extensions.Logging;\n",
    "using Microsoft.Extensions.Logging.Abstractions;\n",
    "\n",
    "using Microsoft.SemanticKernel;\n",
    "using Microsoft.SemanticKernel.ChatCompletion;\n",
    "using Microsoft.SemanticKernel.Connectors.OpenAI;\n",
    "\n",
    "using Kernel = Microsoft.SemanticKernel.Kernel;\n",
    "using KernelPlugin = Microsoft.SemanticKernel.KernelPlugin;\n",
    "using KernelExtensions = Microsoft.SemanticKernel.KernelExtensions;\n",
    "using KernelPluginExtensions = Microsoft.SemanticKernel.KernelPluginExtensions;"
   ]
  },
  {
   "cell_type": "markdown",
   "metadata": {},
   "source": [
    "#### 3. Loading Settings\n",
    "\n",
    "You should work on environment variables, but for simplicity we are loading from the JSON file."
   ]
  },
  {
   "cell_type": "code",
   "execution_count": 3,
   "metadata": {
    "dotnet_interactive": {
     "language": "csharp"
    },
    "polyglot_notebook": {
     "kernelName": "csharp"
    },
    "vscode": {
     "languageId": "polyglot-notebook"
    }
   },
   "outputs": [],
   "source": [
    "using System.IO;\n",
    "using System.Text.Json;\n",
    "\n",
    "public class Settings\n",
    "{\n",
    "    public string Model { get; set; }\n",
    "    public string AzureEndpoint { get; set; }\n",
    "    public string ApiKey { get; set; }\n",
    "\n",
    "    public static (string, string, string) LoadFromFile()\n",
    "    {\n",
    "        var jsonString = File.ReadAllText(\"config/settings.json\");\n",
    "        var options = new JsonSerializerOptions { PropertyNameCaseInsensitive = true };\n",
    "        var settings = JsonSerializer.Deserialize<Settings>(jsonString, options);\n",
    "        if (settings == null)\n",
    "        {\n",
    "            throw new Exception(\"Failed to load settings from the configuration file.\");\n",
    "        }\n",
    "        return (settings.Model, settings.AzureEndpoint, settings.ApiKey);\n",
    "    }\n",
    "}"
   ]
  },
  {
   "cell_type": "markdown",
   "metadata": {},
   "source": [
    "#### 4. Defining a Skill\n",
    "\n",
    "We define a set of skills to showcase how to choose manually from different available functions, as well as the difference when using the default configured model."
   ]
  },
  {
   "cell_type": "code",
   "execution_count": 4,
   "metadata": {
    "dotnet_interactive": {
     "language": "csharp"
    },
    "polyglot_notebook": {
     "kernelName": "csharp"
    },
    "vscode": {
     "languageId": "polyglot-notebook"
    }
   },
   "outputs": [],
   "source": [
    "public class GreetingSkill\n",
    "{\n",
    "    [KernelFunction, Description(\"Greet the user based on its name\")]\n",
    "    public string Greetings(string name)\n",
    "    {\n",
    "        return $\"Hello, {name}! It's nice to meet you!\";\n",
    "    }\n",
    "\n",
    "    [KernelFunction, Description(\"Greet the user politely based on its name\")]\n",
    "    public string PoliteGreetings(string name)\n",
    "    {\n",
    "        return $\"Hello, dear {name}! It's very pleasant to speak with you!\";\n",
    "    }\n",
    "\n",
    "    [KernelFunction, Description(\"Greet the user using slang\")]\n",
    "    public string SlangGreetings(string name)\n",
    "    {\n",
    "        return $\"Yo {name}! Who'd ya doing, daug?\";\n",
    "    }\n",
    "}"
   ]
  },
  {
   "cell_type": "code",
   "execution_count": 5,
   "metadata": {
    "dotnet_interactive": {
     "language": "csharp"
    },
    "polyglot_notebook": {
     "kernelName": "csharp"
    },
    "vscode": {
     "languageId": "polyglot-notebook"
    }
   },
   "outputs": [],
   "source": [
    "public class UsingModelProgram\n",
    "{\n",
    "    public static async Task Ask(string prompt)\n",
    "    {\n",
    "        var (model, azureEndpoint, apiKey) = Settings.LoadFromFile();\n",
    "        IKernelBuilder builder = Kernel.CreateBuilder();\n",
    "        builder.AddAzureOpenAIChatCompletion(model, azureEndpoint, apiKey, serviceId: \"4o-mini\");\n",
    "\n",
    "        OpenAIPromptExecutionSettings openAIPromptExecutionSettings = new() \n",
    "        {\n",
    "            FunctionChoiceBehavior = FunctionChoiceBehavior.Auto()\n",
    "        };\n",
    "\n",
    "        Kernel kernel = builder.Build();\n",
    "        var importedSkill = kernel.CreatePluginFromObject(new GreetingSkill(), \"GreetingSkill\");\n",
    "\n",
    "        var result = await kernel.InvokePromptAsync(prompt, new(openAIPromptExecutionSettings));\n",
    "\n",
    "        Console.WriteLine(result);\n",
    "    }\n",
    "}"
   ]
  },
  {
   "cell_type": "code",
   "execution_count": 6,
   "metadata": {
    "dotnet_interactive": {
     "language": "csharp"
    },
    "polyglot_notebook": {
     "kernelName": "csharp"
    },
    "vscode": {
     "languageId": "polyglot-notebook"
    }
   },
   "outputs": [],
   "source": [
    "public class UsingSkillProgram\n",
    "{\n",
    "    public static async Task Ask(string prompt)\n",
    "    {\n",
    "        var (model, azureEndpoint, apiKey) = Settings.LoadFromFile();\n",
    "        IKernelBuilder builder = Kernel.CreateBuilder();\n",
    "        builder.AddAzureOpenAIChatCompletion(model, azureEndpoint, apiKey);\n",
    "\n",
    "        Kernel kernel = builder.Build();\n",
    "        var importedSkill = kernel.CreatePluginFromObject(new GreetingSkill(), \"GreetingSkill\");\n",
    "\n",
    "        var arguments = new KernelArguments() { [\"name\"] = prompt };\n",
    "        var result = await kernel.InvokeAsync(importedSkill[\"Greetings\"], arguments);\n",
    "        Console.WriteLine(\"Normal greeting: \\n\" + result);\n",
    "        \n",
    "        result = await kernel.InvokeAsync(importedSkill[\"PoliteGreetings\"], arguments);\n",
    "        Console.WriteLine(\"Polite greeting: \\n\" + result);\n",
    "\n",
    "        result = await kernel.InvokeAsync(importedSkill[\"SlangGreetings\"], arguments);\n",
    "        Console.WriteLine(\"Slang greeting: \\n\" + result);\n",
    "    }\n",
    "}"
   ]
  },
  {
   "cell_type": "markdown",
   "metadata": {},
   "source": [
    "#### 5. Greetings using different engines\n",
    "\n",
    "We are going to show how to use both types of approach when using a task."
   ]
  },
  {
   "cell_type": "code",
   "execution_count": 7,
   "metadata": {
    "dotnet_interactive": {
     "language": "csharp"
    },
    "polyglot_notebook": {
     "kernelName": "csharp"
    },
    "vscode": {
     "languageId": "polyglot-notebook"
    }
   },
   "outputs": [
    {
     "name": "stdout",
     "output_type": "stream",
     "text": [
      "This is a test of the Azure OpenAI Chat Completion plugin.\n",
      "The first part of the test uses the model directly: \n",
      "\n",
      "Hello, John Doe! How can I assist you today?\n",
      "\n",
      "The second part of the test uses a skill: \n",
      "\n",
      "Normal greeting: \n",
      "Hello, John Doe! It's nice to meet you!\n",
      "Polite greeting: \n",
      "Hello, dear John Doe! It's very pleasant to speak with you!\n",
      "Slang greeting: \n",
      "Yo John Doe! Who'd ya doing, daug?\n"
     ]
    }
   ],
   "source": [
    "Console.WriteLine(\"This is a test of the Azure OpenAI Chat Completion plugin.\");\n",
    "Console.WriteLine(\"The first part of the test uses the model directly: \\n\");\n",
    "\n",
    "UsingModelProgram.Ask(\"My name is John Doe.\").GetAwaiter().GetResult();\n",
    "\n",
    "Console.WriteLine(\"\\nThe second part of the test uses a skill: \\n\");\n",
    "UsingSkillProgram.Ask(\"John Doe\").GetAwaiter().GetResult();"
   ]
  },
  {
   "cell_type": "markdown",
   "metadata": {},
   "source": [
    "#### 5. Greetings using different engines\n",
    "\n",
    "You may want to control the availability of the functions on the kernel. In order to orchestrate that, you may use a approach for a factory-like where you change the availability or inclusion of a given function for being called or used."
   ]
  },
  {
   "cell_type": "code",
   "execution_count": 12,
   "metadata": {
    "dotnet_interactive": {
     "language": "csharp"
    },
    "polyglot_notebook": {
     "kernelName": "csharp"
    },
    "vscode": {
     "languageId": "polyglot-notebook"
    }
   },
   "outputs": [],
   "source": [
    "public class ManagingSkillProgram\n",
    "{\n",
    "    private readonly Kernel kernel;\n",
    "    private readonly OpenAIPromptExecutionSettings executionSettings;\n",
    "   \n",
    "    public ManagingSkillProgram()\n",
    "    {\n",
    "        var (model, azureEndpoint, apiKey) = Settings.LoadFromFile();\n",
    "        IKernelBuilder builder = Kernel.CreateBuilder();\n",
    "        builder.AddAzureOpenAIChatCompletion(model, azureEndpoint, apiKey);\n",
    "        OpenAIPromptExecutionSettings openAIPromptExecutionSettings = new();\n",
    "\n",
    "        this.kernel = builder.Build();\n",
    "        this.executionSettings = openAIPromptExecutionSettings;\n",
    "        this.executionSettings.FunctionChoiceBehavior = FunctionChoiceBehavior.Auto();\n",
    "    }\n",
    "\n",
    "    private KernelPlugin AddKernelFunction(string skillName, GreetingSkill skill)\n",
    "    {\n",
    "        return this.kernel.CreatePluginFromObject(skill, skillName);\n",
    "    }\n",
    "\n",
    "    private void RemoveKernelFunction(KernelPlugin skill)\n",
    "    {\n",
    "        this.kernel.Plugins.Remove(skill);\n",
    "        skill = null;\n",
    "    }\n",
    "\n",
    "    public async Task Ask(string prompt)\n",
    "    {\n",
    "        var arguments = new KernelArguments(executionSettings) { [\"name\"] = prompt };\n",
    "        var importedSkill = this.AddKernelFunction(\"GreetingSkill\", new GreetingSkill());\n",
    "        var result = await this.kernel.InvokeAsync(importedSkill[\"Greetings\"], arguments);\n",
    "        Console.WriteLine(\"Normal greeting: \\n\" + result);\n",
    "        \n",
    "        result = await this.kernel.InvokeAsync(importedSkill[\"PoliteGreetings\"], arguments);\n",
    "        Console.WriteLine(\"Polite greeting: \\n\" + result);\n",
    "\n",
    "        this.RemoveKernelFunction(importedSkill);\n",
    "        importedSkill = null;\n",
    "\n",
    "        try\n",
    "        {\n",
    "            result = await this.kernel.InvokeAsync(importedSkill[\"SlangGreetings\"], arguments);\n",
    "            Console.WriteLine(\"Slang greeting: \\n\" + result);\n",
    "        }\n",
    "        catch (Exception ex)\n",
    "        {\n",
    "            Console.WriteLine(\"\\n Error: \" + ex.Message);\n",
    "            Console.WriteLine(\"\\n Plugin was removed. Falling back to model. \\n\");\n",
    "            result = await kernel.InvokePromptAsync($\"Greet the user properly, calling it by its name, which is {prompt}\", arguments);\n",
    "            Console.WriteLine(\"model greeting: \\n\" + result);\n",
    "        }\n",
    "    }\n",
    "\n",
    "    public async Task AskMemory(string prompt)\n",
    "    {\n",
    "        var arguments = new KernelArguments(executionSettings) { [\"name\"] = prompt };\n",
    "        this.AddKernelFunction(\"GreetingSkill\", new GreetingSkill());\n",
    "\n",
    "        var chatCompletionService = kernel.GetRequiredService<IChatCompletionService>();\n",
    "        var chatHistory = new ChatHistory();\n",
    "\n",
    "        chatHistory.AddSystemMessage(\"You are a helpful assistant that properly greets people. If the person name is 'John Doe', you should use the skill 'PoliteGreetings' to greet him politely.\");\n",
    "        chatHistory.AddUserMessage(prompt);\n",
    "\n",
    "        var chatCompletionResult = await chatCompletionService.GetChatMessageContentAsync(chatHistory, this.executionSettings, this.kernel);\n",
    "\n",
    "        Console.WriteLine($\"Result: {chatCompletionResult}\\n\");\n",
    "        chatHistory.AddAssistantMessage(chatCompletionResult.ToString());\n",
    "        Console.WriteLine($\"Chat history: {JsonSerializer.Serialize(chatHistory)}\\n\");\n",
    "    }\n",
    "}"
   ]
  },
  {
   "cell_type": "code",
   "execution_count": 13,
   "metadata": {
    "dotnet_interactive": {
     "language": "csharp"
    },
    "polyglot_notebook": {
     "kernelName": "csharp"
    },
    "vscode": {
     "languageId": "polyglot-notebook"
    }
   },
   "outputs": [
    {
     "name": "stdout",
     "output_type": "stream",
     "text": [
      "This is a test of the Azure OpenAI Chat Completion plugin.\n",
      "We will test the Kernel Plugin management: \n",
      "\n",
      "Normal greeting: \n",
      "Hello, John Doe! It's nice to meet you!\n",
      "Polite greeting: \n",
      "Hello, dear John Doe! It's very pleasant to speak with you!\n",
      "\n",
      " Error: Object reference not set to an instance of an object.\n",
      "\n",
      " Plugin was removed. Falling back to model. \n",
      "\n",
      "model greeting: \n",
      "Hello, John Doe! I hope you're doing well. How can I assist you today?\n"
     ]
    }
   ],
   "source": [
    "Console.WriteLine(\"This is a test of the Azure OpenAI Chat Completion plugin.\");\n",
    "Console.WriteLine(\"We will test the Kernel Plugin management: \\n\");\n",
    "\n",
    "var managingSkillProgram = new ManagingSkillProgram();\n",
    "managingSkillProgram.Ask(\"John Doe\").GetAwaiter().GetResult();"
   ]
  },
  {
   "cell_type": "markdown",
   "metadata": {},
   "source": [
    "#### 6. Memory and System Message\n",
    "\n",
    "Finally, to add memory and properly allow the kernel to plan what to do, and use skills accordingly."
   ]
  },
  {
   "cell_type": "code",
   "execution_count": 14,
   "metadata": {
    "dotnet_interactive": {
     "language": "csharp"
    },
    "polyglot_notebook": {
     "kernelName": "csharp"
    },
    "vscode": {
     "languageId": "polyglot-notebook"
    }
   },
   "outputs": [
    {
     "name": "stdout",
     "output_type": "stream",
     "text": [
      "This is a test of the Azure OpenAI Chat Completion message with history.\n",
      "Result: Hello, John Doe! It's a pleasure to assist you today. How can I help you?\n",
      "\n",
      "Chat history: [{\"Role\":{\"Label\":\"system\"},\"Items\":[{\"$type\":\"TextContent\",\"Text\":\"You are a helpful assistant that properly greets people. If the person name is \\u0027John Doe\\u0027, you should use the skill \\u0027PoliteGreetings\\u0027 to greet him politely.\"}]},{\"Role\":{\"Label\":\"user\"},\"Items\":[{\"$type\":\"TextContent\",\"Text\":\"John Doe\"}]},{\"Role\":{\"Label\":\"assistant\"},\"Items\":[{\"$type\":\"TextContent\",\"Text\":\"Hello, John Doe! It\\u0027s a pleasure to assist you today. How can I help you?\"}]}]\n",
      "\n"
     ]
    }
   ],
   "source": [
    "Console.WriteLine(\"This is a test of the Azure OpenAI Chat Completion message with history.\");\n",
    "\n",
    "var managingSkillProgram = new ManagingSkillProgram();\n",
    "managingSkillProgram.AskMemory(\"John Doe\").GetAwaiter().GetResult();"
   ]
  }
 ],
 "metadata": {
  "kernelspec": {
   "display_name": ".NET (C#)",
   "language": "C#",
   "name": ".net-csharp"
  },
  "language_info": {
   "codemirror_mode": {
    "name": "ipython",
    "version": 3
   },
   "file_extension": ".py",
   "mimetype": "text/x-python",
   "name": "python",
   "nbconvert_exporter": "python",
   "pygments_lexer": "ipython3",
   "version": "3.12.9"
  },
  "polyglot_notebook": {
   "kernelInfo": {
    "defaultKernelName": "csharp",
    "items": [
     {
      "aliases": [],
      "name": "csharp"
     }
    ]
   }
  }
 },
 "nbformat": 4,
 "nbformat_minor": 2
}
