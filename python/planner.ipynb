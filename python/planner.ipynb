{
 "cells": [
  {
   "cell_type": "markdown",
   "metadata": {},
   "source": [
    "---\n",
    "\n",
    "**Organización y Coordinación de Funciones**\n",
    "\n",
    "- **Flujo de Trabajo Eficiente:**  \n",
    "  Organiza y coordina la ejecución de diferentes funciones dentro de un flujo de trabajo.\n",
    "\n",
    "- **Manejo de Dependencias:**  \n",
    "  Garantiza que las dependencias entre tareas sean manejadas de manera eficiente.\n",
    "\n",
    "- **Automatización y Estructura:**  \n",
    "  Facilita la automatización de procesos y la ejecución de tareas de manera estructurada.\n",
    "\n",
    "---"
   ]
  },
  {
   "cell_type": "markdown",
   "metadata": {},
   "source": [
    "---\n",
    "\n",
    "**Evaluación y Optimización de Tareas**\n",
    "\n",
    "- **Orden Óptimo de Ejecución:**  \n",
    "  Evalúa las tareas dentro del flujo de trabajo para establecer el orden óptimo de ejecución.\n",
    "\n",
    "- **Priorización Inteligente:**  \n",
    "  Prioriza ciertas tareas basándose en los requerimientos del usuario o la carga computacional.\n",
    "\n",
    "- **Asignación Eficiente de Recursos:**  \n",
    "  Reduce el tiempo de respuesta mediante la asignación eficiente de recursos.\n",
    "\n",
    "---"
   ]
  },
  {
   "cell_type": "markdown",
   "metadata": {},
   "source": [
    "---\n",
    "\n",
    "**Modificación y Adaptación de Planes de Ejecución**\n",
    "\n",
    "- **Modificación en Tiempo Real:**  \n",
    "  Permite la modificación de planes de ejecución en tiempo real con base en la entrada del usuario.\n",
    "\n",
    "- **Toma de Decisiones Automatizada:**  \n",
    "  Facilita la toma de decisiones automatizada para ajustar la ejecución según condiciones variables.\n",
    "\n",
    "- **Estrategias de Ejecución Flexibles:**  \n",
    "  Soporta estrategias de ejecución secuenciales, paralelas o recursivas.\n",
    "\n",
    "---"
   ]
  },
  {
   "cell_type": "code",
   "execution_count": 1,
   "metadata": {},
   "outputs": [
    {
     "ename": "TypeError",
     "evalue": "TextMemoryPlugin.__init__() missing 1 required positional argument: 'memory'",
     "output_type": "error",
     "traceback": [
      "\u001b[1;31m---------------------------------------------------------------------------\u001b[0m",
      "\u001b[1;31mTypeError\u001b[0m                                 Traceback (most recent call last)",
      "Cell \u001b[1;32mIn[1], line 10\u001b[0m\n\u001b[0;32m      7\u001b[0m kernel \u001b[38;5;241m=\u001b[39m Kernel()\n\u001b[0;32m      9\u001b[0m \u001b[38;5;66;03m# Registrar los plugins utilizando sus propios métodos de registro\u001b[39;00m\n\u001b[1;32m---> 10\u001b[0m text_memory_plugin \u001b[38;5;241m=\u001b[39m \u001b[43mTextMemoryPlugin\u001b[49m\u001b[43m(\u001b[49m\u001b[43m)\u001b[49m\n\u001b[0;32m     11\u001b[0m kernel\u001b[38;5;241m.\u001b[39madd_plugin(text_memory_plugin, plugin_name\u001b[38;5;241m=\u001b[39m\u001b[38;5;124m\"\u001b[39m\u001b[38;5;124mtext_memory\u001b[39m\u001b[38;5;124m\"\u001b[39m)\n\u001b[0;32m     13\u001b[0m conversation_summary_plugin \u001b[38;5;241m=\u001b[39m ConversationSummaryPlugin()\n",
      "\u001b[1;31mTypeError\u001b[0m: TextMemoryPlugin.__init__() missing 1 required positional argument: 'memory'"
     ]
    }
   ],
   "source": [
    "from semantic_kernel import Kernel\n",
    "from semantic_kernel.functions import kernel_function, KernelArguments\n",
    "from semantic_kernel.planners import SequentialPlanner\n",
    "from semantic_kernel.core_plugins import TextMemoryPlugin, ConversationSummaryPlugin, HttpPlugin\n",
    "\n",
    "# Crear la instancia del kernel\n",
    "kernel = Kernel()\n",
    "\n",
    "# Registrar los plugins utilizando sus propios métodos de registro\n",
    "text_memory_plugin = TextMemoryPlugin()\n",
    "kernel.add_plugin(text_memory_plugin, plugin_name=\"text_memory\")\n",
    "\n",
    "conversation_summary_plugin = ConversationSummaryPlugin()\n",
    "kernel.add_plugin(conversation_summary_plugin, plugin_name=\"conversation_summary\")\n",
    "\n",
    "http_plugin = HttpPlugin()\n",
    "kernel.add_plugin(http_plugin, plugin_name=\"http\")\n",
    "\n",
    "# Definir funciones para el flujo de trabajo\n",
    "@kernel_function(name=\"obtener_dato\")\n",
    "async def obtener_dato(clave: str) -> str:\n",
    "    \"\"\"Obtiene un dato almacenado en la memoria de texto.\"\"\"\n",
    "    return await kernel.invoke(function_name=\"recuperar_dato\", plugin_name=\"text_memory\", arguments=KernelArguments(clave=clave))\n",
    "\n",
    "@kernel_function(name=\"procesar_dato\")\n",
    "async def procesar_dato(dato: str) -> str:\n",
    "    \"\"\"Procesa el dato obtenido.\"\"\"\n",
    "    return dato.upper()\n",
    "\n",
    "@kernel_function(name=\"resumir_dato\")\n",
    "async def resumir_dato(dato: str) -> str:\n",
    "    \"\"\"Genera un resumen del dato procesado.\"\"\"\n",
    "    return await kernel.invoke(function_name=\"resumir_conversacion\", plugin_name=\"conversation_summary\", arguments=KernelArguments(conversacion=dato))\n",
    "\n",
    "# Registrar las funciones en el kernel\n",
    "kernel.add_plugin(obtener_dato, plugin_name=\"workflow\")\n",
    "kernel.add_plugin(procesar_dato, plugin_name=\"workflow\")\n",
    "kernel.add_plugin(resumir_dato, plugin_name=\"workflow\")\n",
    "\n",
    "# Crear el planificador secuencial\n",
    "planner = SequentialPlanner(kernel, service_id=\"workflow\")\n",
    "\n",
    "# Definir el flujo de trabajo\n",
    "async def flujo_de_trabajo():\n",
    "    plan = await planner.create_plan([\n",
    "        {\"function\": \"obtener_dato\", \"args\": {\"clave\": \"usuario\"}},\n",
    "        {\"function\": \"procesar_dato\", \"args\": {\"dato\": \"$0\"}},\n",
    "        {\"function\": \"resumir_dato\", \"args\": {\"dato\": \"$1\"}}\n",
    "    ])\n",
    "\n",
    "    # Ejecutar el plan\n",
    "    resultado = await kernel.invoke(function=plan)\n",
    "    print(\"Resultado del flujo de trabajo:\", resultado)\n",
    "\n",
    "# Ejecutar el flujo de trabajo\n",
    "await flujo_de_trabajo()"
   ]
  }
 ],
 "metadata": {
  "kernelspec": {
   "display_name": ".venv",
   "language": "python",
   "name": "python3"
  },
  "language_info": {
   "codemirror_mode": {
    "name": "ipython",
    "version": 3
   },
   "file_extension": ".py",
   "mimetype": "text/x-python",
   "name": "python",
   "nbconvert_exporter": "python",
   "pygments_lexer": "ipython3",
   "version": "3.12.9"
  }
 },
 "nbformat": 4,
 "nbformat_minor": 2
}
