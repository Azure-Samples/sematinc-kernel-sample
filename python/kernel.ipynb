{
 "cells": [
  {
   "cell_type": "markdown",
   "metadata": {},
   "source": [
    "1. Interpretación y Ejecución de Comandos\n",
    "El siguiente código muestra cómo inicializar el Kernel y ejecutar una función basada en la entrada del usuario."
   ]
  },
  {
   "cell_type": "code",
   "execution_count": null,
   "metadata": {},
   "outputs": [],
   "source": [
    "import os\n",
    "from azure.cosmos import CosmosClient, exceptions\n",
    "from azure.identity import DefaultAzureCredential\n",
    "\n",
    "\n",
    "\n",
    "ENVIRONMENT = os.getenv(\"ENVIRONMENT\", \"development\")\n",
    "\n",
    "if ENVIRONMENT == \"development\":\n",
    "    DEFAULT_CREDENTIAL = DefaultAzureCredential()\n",
    "else:\n",
    "    DEFAULT_CREDENTIAL = os.getenv(\"COSMOS_KEY\", \"\")\n",
    "\n",
    "\n",
    "COSMOS_ENDPOINT = os.getenv(\"COSMOS_ENDPOINT\", \"\")\n",
    "COSMOS_KEY = os.getenv(\"COSMOS_KEY\", \"\")\n",
    "DATABASE_NAME = os.getenv(\"MANAGER_DATABASE\", \"CommandContainer\")\n",
    "\n",
    "\n",
    "class CommandDatabase:\n",
    "\n",
    "    def __init__(self, container_name):\n",
    "        self.client = CosmosClient(COSMOS_ENDPOINT, DEFAULT_CREDENTIAL)  #type: ignore\n",
    "        self.database = self.client.get_database_client(DATABASE_NAME)\n",
    "        self.container = self.database.get_container_client(container_name)\n",
    "\n",
    "    def create_command(self, command):\n",
    "        try:\n",
    "            self.container.create_item(body=command)\n",
    "            return \"Command created successfully\"\n",
    "        except exceptions.CosmosHttpResponseError as e:\n",
    "            return f\"An error occurred: {e.message}\"\n",
    "\n",
    "    def read_command(self, command_id):\n",
    "        try:\n",
    "            command = self.container.read_item(item=command_id, partition_key={})\n",
    "            return command\n",
    "        except exceptions.CosmosResourceNotFoundError:\n",
    "            return \"Command not found\"\n",
    "        except exceptions.CosmosHttpResponseError as e:\n",
    "            return f\"An error occurred: {e.message}\"\n",
    "\n",
    "    def list_command(self):\n",
    "        try:\n",
    "            command = list(self.container.read_all_items())\n",
    "            return command\n",
    "        except exceptions.CosmosResourceNotFoundError:\n",
    "            return \"Command not found\"\n",
    "        except exceptions.CosmosHttpResponseError as e:\n",
    "            return f\"An error occurred: {e.message}\"\n",
    "\n",
    "    def update_command(self, updated_command):\n",
    "        try:\n",
    "            self.container.upsert_item(body=updated_command)\n",
    "            return \"Command updated successfully\"\n",
    "        except exceptions.CosmosResourceNotFoundError:\n",
    "            return \"Command not found\"\n",
    "        except exceptions.CosmosHttpResponseError as e:\n",
    "            return f\"An error occurred: {e.message}\"\n",
    "\n",
    "    def delete_command(self, command_id):\n",
    "        try:\n",
    "            self.container.delete_item(item=command_id, partition_key={})\n",
    "            return \"Command deleted successfully\"\n",
    "        except exceptions.CosmosResourceNotFoundError:\n",
    "            return \"Command not found\"\n",
    "        except exceptions.CosmosHttpResponseError as e:\n",
    "            return f\"An error occurred: {e.message}\"\n"
   ]
  },
  {
   "cell_type": "code",
   "execution_count": null,
   "metadata": {
    "dotnet_interactive": {
     "language": "csharp"
    },
    "polyglot_notebook": {
     "kernelName": "csharp"
    }
   },
   "outputs": [
    {
     "ename": "TypeError",
     "evalue": "plugin_name must be a string.",
     "output_type": "error",
     "traceback": [
      "\u001b[1;31m---------------------------------------------------------------------------\u001b[0m",
      "\u001b[1;31mTypeError\u001b[0m                                 Traceback (most recent call last)",
      "Cell \u001b[1;32mIn[3], line 44\u001b[0m\n\u001b[0;32m     41\u001b[0m     resultado \u001b[38;5;241m=\u001b[39m \u001b[38;5;28;01mawait\u001b[39;00m kernel\u001b[38;5;241m.\u001b[39mrun(\u001b[38;5;124m\"\u001b[39m\u001b[38;5;124mlocal.saludar\u001b[39m\u001b[38;5;124m\"\u001b[39m, nombre\u001b[38;5;241m=\u001b[39mentrada_usuario)\n\u001b[0;32m     42\u001b[0m     \u001b[38;5;28mprint\u001b[39m(resultado)\n\u001b[1;32m---> 44\u001b[0m \u001b[38;5;28;01mawait\u001b[39;00m main()\n",
      "Cell \u001b[1;32mIn[3], line 34\u001b[0m, in \u001b[0;36mmain\u001b[1;34m()\u001b[0m\n\u001b[0;32m     30\u001b[0m kernel \u001b[38;5;241m=\u001b[39m Kernel()\n\u001b[0;32m     32\u001b[0m \u001b[38;5;66;03m# Import (register) your skill under a plugin name, e.g. \"local\".\u001b[39;00m\n\u001b[0;32m     33\u001b[0m \u001b[38;5;66;03m# The add_plugin method registers public methods of the given class.\u001b[39;00m\n\u001b[1;32m---> 34\u001b[0m \u001b[43mkernel\u001b[49m\u001b[38;5;241;43m.\u001b[39;49m\u001b[43madd_plugin\u001b[49m\u001b[43m(\u001b[49m\u001b[38;5;124;43m\"\u001b[39;49m\u001b[38;5;124;43mlocal\u001b[39;49m\u001b[38;5;124;43m\"\u001b[39;49m\u001b[43m,\u001b[49m\u001b[43m \u001b[49m\u001b[43mSaludosSkill\u001b[49m\u001b[43m(\u001b[49m\u001b[43m)\u001b[49m\u001b[43m)\u001b[49m\n\u001b[0;32m     36\u001b[0m \u001b[38;5;66;03m# Define the input.\u001b[39;00m\n\u001b[0;32m     37\u001b[0m entrada_usuario \u001b[38;5;241m=\u001b[39m \u001b[38;5;124m\"\u001b[39m\u001b[38;5;124mJuan\u001b[39m\u001b[38;5;124m\"\u001b[39m\n",
      "File \u001b[1;32mc:\\Users\\rcataldi\\Documents\\SK BNCR\\.venv\\Lib\\site-packages\\semantic_kernel\\functions\\kernel_function_extension.py:90\u001b[0m, in \u001b[0;36mKernelFunctionExtension.add_plugin\u001b[1;34m(self, plugin, plugin_name, parent_directory, description, class_init_arguments)\u001b[0m\n\u001b[0;32m     88\u001b[0m     \u001b[38;5;28;01mraise\u001b[39;00m \u001b[38;5;167;01mValueError\u001b[39;00m(\u001b[38;5;124m\"\u001b[39m\u001b[38;5;124mplugin_name must be provided if a plugin is not supplied.\u001b[39m\u001b[38;5;124m\"\u001b[39m)\n\u001b[0;32m     89\u001b[0m \u001b[38;5;28;01mif\u001b[39;00m \u001b[38;5;129;01mnot\u001b[39;00m \u001b[38;5;28misinstance\u001b[39m(plugin_name, \u001b[38;5;28mstr\u001b[39m):\n\u001b[1;32m---> 90\u001b[0m     \u001b[38;5;28;01mraise\u001b[39;00m \u001b[38;5;167;01mTypeError\u001b[39;00m(\u001b[38;5;124m\"\u001b[39m\u001b[38;5;124mplugin_name must be a string.\u001b[39m\u001b[38;5;124m\"\u001b[39m)\n\u001b[0;32m     91\u001b[0m \u001b[38;5;28;01mif\u001b[39;00m plugin:\n\u001b[0;32m     92\u001b[0m     \u001b[38;5;28mself\u001b[39m\u001b[38;5;241m.\u001b[39mplugins[plugin_name] \u001b[38;5;241m=\u001b[39m KernelPlugin\u001b[38;5;241m.\u001b[39mfrom_object(\n\u001b[0;32m     93\u001b[0m         plugin_name\u001b[38;5;241m=\u001b[39mplugin_name, plugin_instance\u001b[38;5;241m=\u001b[39mplugin, description\u001b[38;5;241m=\u001b[39mdescription\n\u001b[0;32m     94\u001b[0m     )\n",
      "\u001b[1;31mTypeError\u001b[0m: plugin_name must be a string."
     ]
    }
   ],
   "source": [
    "from semantic_kernel import Kernel\n",
    "from semantic_kernel.functions import kernel_function, KernelArguments\n",
    "from semantic_kernel.connectors.ai.azure_ai_inference import AzureAIInferenceChatCompletion\n",
    "\n",
    "class SaludosSkill:\n",
    "    # Define your function as a plain method.\n",
    "    # Its name (e.g. \"saludar\") will be used when invoking it.\n",
    "    @kernel_function(name=\"saludar\")\n",
    "    async def saludar(self, nombre: str) -> str:\n",
    "        return f\"Hola, {nombre}!\"\n",
    "    \n",
    "\n",
    "class OperacaoBancoDados:\n",
    "\n",
    "    def __init__(self, auth: str):\n",
    "        self.database = {}\n",
    "        self.auth = auth or \"\"\n",
    "    # Define your function as a plain method.\n",
    "    # Its name (e.g. \"saludar\") will be used when invoking it.\n",
    "    @kernel_function(name=\"retrieve\")\n",
    "    async def saludar(self, nombre: str) -> str:\n",
    "        return database.retrieve(nombre)\n",
    "\n",
    "    @kernel_function(name=\"write\")\n",
    "    async def saludar(self, nombre: str) -> str:\n",
    "        return database.write(nombre)    \n",
    "\n",
    "\n",
    "async def main():\n",
    "    # Create a new kernel instance directly.\n",
    "    kernel = Kernel()\n",
    "\n",
    "    # Import (register) your skill under a plugin name, e.g. \"local\".\n",
    "    # The add_plugin method registers public methods of the given class.\n",
    "    kernel.add_plugin(\"local\", CommandDatabase(\"auth\"))\n",
    "\n",
    "    # Define the input.\n",
    "    entrada_usuario = \"Juan\"\n",
    "\n",
    "    # Invoke the function.\n",
    "    # In this version, you reference the function as \"local.saludar\" (plugin_name.function_name)\n",
    "    resultado = await kernel.run(\"local.read_command\", id=entrada_usuario)\n",
    "    print(resultado)\n",
    "\n",
    "await main()"
   ]
  },
  {
   "cell_type": "markdown",
   "metadata": {},
   "source": [
    "2. Orquestación de Flujos de Trabajo\n",
    "Este código muestra cómo encadenar múltiples funciones en un flujo de trabajo."
   ]
  },
  {
   "cell_type": "code",
   "execution_count": 4,
   "metadata": {
    "dotnet_interactive": {
     "language": "csharp"
    },
    "polyglot_notebook": {
     "kernelName": "csharp"
    }
   },
   "outputs": [
    {
     "ename": "NameError",
     "evalue": "name 'kernel' is not defined",
     "output_type": "error",
     "traceback": [
      "\u001b[1;31m---------------------------------------------------------------------------\u001b[0m",
      "\u001b[1;31mNameError\u001b[0m                                 Traceback (most recent call last)",
      "Cell \u001b[1;32mIn[4], line 19\u001b[0m\n\u001b[0;32m     16\u001b[0m calable_class_function \u001b[38;5;241m=\u001b[39m CalableClass()\n\u001b[0;32m     18\u001b[0m \u001b[38;5;66;03m# Registrar funciones\u001b[39;00m\n\u001b[1;32m---> 19\u001b[0m \u001b[43mkernel\u001b[49m\u001b[38;5;241m.\u001b[39madd_function(\u001b[38;5;124m\"\u001b[39m\u001b[38;5;124mobtener_nombre\u001b[39m\u001b[38;5;124m\"\u001b[39m, obtener_nombre)\n\u001b[0;32m     20\u001b[0m kernel\u001b[38;5;241m.\u001b[39madd_function(\u001b[38;5;124m\"\u001b[39m\u001b[38;5;124mgenerar_mensaje\u001b[39m\u001b[38;5;124m\"\u001b[39m, generar_mensaje)\n\u001b[0;32m     21\u001b[0m kernel\u001b[38;5;241m.\u001b[39madd_function(\u001b[38;5;124m\"\u001b[39m\u001b[38;5;124mcalable_class_function\u001b[39m\u001b[38;5;124m\"\u001b[39m, calable_class_function)\n",
      "\u001b[1;31mNameError\u001b[0m: name 'kernel' is not defined"
     ]
    }
   ],
   "source": [
    "@kernel_function(name=\"obtener_nombre\")\n",
    "def obtener_nombre() -> str:\n",
    "    return \"Juan\"\n",
    "\n",
    "@kernel_function(name=\"generar_mensaje\")\n",
    "def generar_mensaje(nombre: str) -> str:\n",
    "    return f\"Hola, {nombre}, ¿cómo estás?\"\n",
    "\n",
    "\n",
    "class CalableClass:\n",
    "\n",
    "    async def __call__(self):\n",
    "        return \"Juan\"\n",
    "\n",
    "\n",
    "calable_class_function = CalableClass()\n",
    "\n",
    "# Registrar funciones\n",
    "kernel.add_function(\"obtener_nombre\", obtener_nombre)\n",
    "kernel.add_function(\"generar_mensaje\", generar_mensaje)\n",
    "kernel.add_function(\"calable_class_function\", calable_class_function)\n",
    "\n",
    "args = KernelArguments(nombre=entrada_usuario)\n",
    "\n",
    "# Orquestación del flujo\n",
    "nombre = await kernel.invoke(\n",
    "    function_name=\"obtener_nombre\", plugin_name=\"obtener_nombre\"\n",
    ")\n",
    "mensaje = await kernel.invoke(\n",
    "    function_name=\"generar_mensaje\", plugin_name=\"generar_mensaje\", arguments=args\n",
    ")\n",
    "print(mensaje)  # Salida: Hola, Juan, ¿cómo estás?\n"
   ]
  },
  {
   "cell_type": "markdown",
   "metadata": {},
   "source": [
    "3. Gestión de Memoria y Contexto\n",
    "\n",
    "Este código demuestra cómo almacenar y recuperar información del contexto.\n",
    "Este codigo no se pasará porque no tenemos el storage factual, pero esta es la logica de storage"
   ]
  },
  {
   "cell_type": "code",
   "execution_count": null,
   "metadata": {
    "dotnet_interactive": {
     "language": "csharp"
    },
    "polyglot_notebook": {
     "kernelName": "csharp"
    }
   },
   "outputs": [],
   "source": [
    "from semantic_kernel.memory import SemanticTextMemory\n",
    "\n",
    "# Crear memoria en el Kernel\n",
    "memoria = SemanticTextMemory()\n",
    "\n",
    "# Almacenar contexto\n",
    "memoria.save_information(\"usuario_nombre\", \"Juan\")\n",
    "\n",
    "# Recuperar contexto y generar una respuesta\n",
    "nombre = memoria.get(\"usuario_nombre\")\n",
    "print(f\"Bienvenido de nuevo, {nombre}\")  # Salida: Bienvenido de nuevo, Juan\n"
   ]
  },
  {
   "cell_type": "markdown",
   "metadata": {},
   "source": [
    "4. Optimización de Planificación\n",
    "Uso de un Planner para optimizar la ejecución de tareas."
   ]
  },
  {
   "cell_type": "code",
   "execution_count": null,
   "metadata": {
    "dotnet_interactive": {
     "language": "csharp"
    },
    "polyglot_notebook": {
     "kernelName": "csharp"
    }
   },
   "outputs": [],
   "source": [
    "from semantic_kernel import Kernel\n",
    "from semantic_kernel.connectors.ai.open_ai import AzureChatCompletion\n",
    "from semantic_kernel.planners import SequentialPlanner, FunctionCallingStepwisePlanner\n",
    "\n",
    "# Configura tu servicio AI (reemplaza \"YOUR_API_KEY\" por tu API key y ajusta el modelo si es necesario)\n",
    "chat_completion_service_4o = AzureChatCompletion(\n",
    "    deployment_name=\"my-deployment\",  \n",
    "    api_key=\"my-api-key\",\n",
    "    endpoint=\"my-api-endpoint\", # Used to point to your service\n",
    "    service_id=\"openai_gpt4o\", # Optional; for targeting specific services within Semantic Kernel\n",
    ")\n",
    "\n",
    "chat_completion_service_4o_mini = AzureChatCompletion(\n",
    "    deployment_name=\"my-deployment\",  \n",
    "    api_key=\"my-api-key\",\n",
    "    endpoint=\"my-api-endpoint\", # Used to point to your service\n",
    "    service_id=\"openai_gpt4o_mini\", # Optional; for targeting specific services within Semantic Kernel\n",
    ")\n",
    "\n",
    "chat_completion_service_phi4 = AzureChatCompletion(\n",
    "    deployment_name=\"my-deployment\",  \n",
    "    api_key=\"my-api-key\",\n",
    "    endpoint=\"my-api-endpoint\", # Used to point to your service\n",
    "    service_id=\"phi_4\", # Optional; for targeting specific services within Semantic Kernel\n",
    ")\n",
    "\n",
    "\n",
    "# Crea la instancia del kernel y registra el servicio AI con un ID, por ejemplo \"openai\"\n",
    "kernel = Kernel(services={\n",
    "    \"gpt4o\": chat_completion_service_4o,\n",
    "    \"gpt4omini\": chat_completion_service_4o_mini,\n",
    "    \"phi4\": chat_completion_service_phi4,\n",
    "    },\n",
    ")\n",
    "\n",
    "# Usa ese servicio registrado en el planner\n",
    "planner = SequentialPlanner(kernel, service_id=\"gpt4o\")\n",
    "\n",
    "# Crea el plan (await the creation to obtain the plan object)\n",
    "plan = await planner.create_plan([\n",
    "    {\"function\": \"obtener_nombre\"},\n",
    "    {\"function\": \"generar_mensaje\", \"args\": {\"nombre\": \"$0\"}}\n",
    "])\n",
    "\n",
    "# Invoca el plan ya construido con kernel.invoke\n",
    "primer_resultado = await kernel.invoke(function=plan)\n",
    "\n",
    "planner_dos = SequentialPlanner(kernel, service_id=\"phi_4\")\n",
    "plan_dos = await planner.create_plan([\n",
    "    {\"function\": \"generar_mensaje\", \"args\": {\"nombre\": primer_resultado}},\n",
    "    {\"function\": \"saludar\", \"args\": {\"nombre\": \"$0\"}}\n",
    "])\n",
    "\n",
    "resultado = await kernel.invoke(function=plan_dos)\n",
    "\n",
    "print(resultado)  # Debe imprimir: Hola, Juan, ¿cómo estás?"
   ]
  }
 ],
 "metadata": {
  "kernelspec": {
   "display_name": ".venv",
   "language": "python",
   "name": "python3"
  },
  "language_info": {
   "codemirror_mode": {
    "name": "ipython",
    "version": 3
   },
   "file_extension": ".py",
   "mimetype": "text/x-python",
   "name": "python",
   "nbconvert_exporter": "python",
   "pygments_lexer": "ipython3",
   "version": "3.12.9"
  },
  "polyglot_notebook": {
   "kernelInfo": {
    "defaultKernelName": "csharp",
    "items": [
     {
      "aliases": [],
      "name": "csharp"
     }
    ]
   }
  }
 },
 "nbformat": 4,
 "nbformat_minor": 2
}
